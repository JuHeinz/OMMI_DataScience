{
 "cells": [
  {
   "attachments": {},
   "cell_type": "markdown",
   "metadata": {},
   "source": [
    "# Task\n",
    "### Objective\n",
    " To categorize the countries using socio-economic and health factors that determine the overall development of the country.\n",
    "\n",
    "### Problem Statement:\n",
    "HELP International has been able to raise around $ 10 million. Now the CEO of the NGO needs to decide how to use this money strategically and effectively.\n",
    "Hence, your Job as a Data scientist is to categorize the countries using some socio-economic and health factors that determine the overall development of the country.\n",
    "\n",
    "### Task:\n",
    "1. use K-means clustering and Hierarchical clustering to cluster the country into groups.\n",
    "please choose the number of the cluster in a rational reason\n",
    "2. use PCA to reduce the dimension to 2d, and visualize the cluster from K-means and Hierarchical clustering respectively\n",
    "3. please write the suggestion to CEO about the country you suggest\n",
    "\n",
    "\n"
   ]
  },
  {
   "cell_type": "code",
   "execution_count": 11,
   "metadata": {},
   "outputs": [],
   "source": [
    "#IMPORTS\n",
    "import numpy as np\n",
    "import pandas as pd\n",
    "\n",
    "#Create dataframe\n",
    "df  = pd.read_csv(\"country.csv\")\n"
   ]
  },
  {
   "attachments": {},
   "cell_type": "markdown",
   "metadata": {},
   "source": [
    "# Set up\n",
    "### Data cleaning"
   ]
  },
  {
   "cell_type": "code",
   "execution_count": 12,
   "metadata": {},
   "outputs": [
    {
     "data": {
      "text/plain": [
       "country       0\n",
       "child_mort    0\n",
       "exports       0\n",
       "health        0\n",
       "imports       0\n",
       "income        0\n",
       "inflation     0\n",
       "life_expec    0\n",
       "total_fer     0\n",
       "gdpp          0\n",
       "dtype: int64"
      ]
     },
     "execution_count": 12,
     "metadata": {},
     "output_type": "execute_result"
    }
   ],
   "source": [
    "#Check for null cells\n",
    "df.isnull().sum()\n",
    "\n",
    "#No null cells, can continue"
   ]
  },
  {
   "attachments": {},
   "cell_type": "markdown",
   "metadata": {},
   "source": [
    "### Preprocessing"
   ]
  },
  {
   "cell_type": "code",
   "execution_count": 13,
   "metadata": {},
   "outputs": [
    {
     "data": {
      "text/html": [
       "<div>\n",
       "<style scoped>\n",
       "    .dataframe tbody tr th:only-of-type {\n",
       "        vertical-align: middle;\n",
       "    }\n",
       "\n",
       "    .dataframe tbody tr th {\n",
       "        vertical-align: top;\n",
       "    }\n",
       "\n",
       "    .dataframe thead th {\n",
       "        text-align: right;\n",
       "    }\n",
       "</style>\n",
       "<table border=\"1\" class=\"dataframe\">\n",
       "  <thead>\n",
       "    <tr style=\"text-align: right;\">\n",
       "      <th></th>\n",
       "      <th>child_mort</th>\n",
       "      <th>exports</th>\n",
       "      <th>health</th>\n",
       "      <th>imports</th>\n",
       "      <th>income</th>\n",
       "      <th>inflation</th>\n",
       "      <th>life_expec</th>\n",
       "      <th>total_fer</th>\n",
       "      <th>gdpp</th>\n",
       "    </tr>\n",
       "  </thead>\n",
       "  <tbody>\n",
       "    <tr>\n",
       "      <th>0</th>\n",
       "      <td>26.1</td>\n",
       "      <td>46.7</td>\n",
       "      <td>5.44</td>\n",
       "      <td>56.7</td>\n",
       "      <td>7710</td>\n",
       "      <td>39.20</td>\n",
       "      <td>66.2</td>\n",
       "      <td>2.64</td>\n",
       "      <td>2650</td>\n",
       "    </tr>\n",
       "    <tr>\n",
       "      <th>1</th>\n",
       "      <td>76.7</td>\n",
       "      <td>19.7</td>\n",
       "      <td>6.32</td>\n",
       "      <td>17.2</td>\n",
       "      <td>3370</td>\n",
       "      <td>19.60</td>\n",
       "      <td>66.3</td>\n",
       "      <td>4.88</td>\n",
       "      <td>1480</td>\n",
       "    </tr>\n",
       "    <tr>\n",
       "      <th>2</th>\n",
       "      <td>90.5</td>\n",
       "      <td>22.8</td>\n",
       "      <td>6.59</td>\n",
       "      <td>34.9</td>\n",
       "      <td>1030</td>\n",
       "      <td>12.10</td>\n",
       "      <td>53.1</td>\n",
       "      <td>5.31</td>\n",
       "      <td>459</td>\n",
       "    </tr>\n",
       "    <tr>\n",
       "      <th>3</th>\n",
       "      <td>4.5</td>\n",
       "      <td>76.4</td>\n",
       "      <td>10.70</td>\n",
       "      <td>74.7</td>\n",
       "      <td>41100</td>\n",
       "      <td>1.88</td>\n",
       "      <td>80.0</td>\n",
       "      <td>1.86</td>\n",
       "      <td>44400</td>\n",
       "    </tr>\n",
       "    <tr>\n",
       "      <th>4</th>\n",
       "      <td>116.0</td>\n",
       "      <td>41.1</td>\n",
       "      <td>7.91</td>\n",
       "      <td>49.6</td>\n",
       "      <td>609</td>\n",
       "      <td>20.80</td>\n",
       "      <td>57.5</td>\n",
       "      <td>6.54</td>\n",
       "      <td>334</td>\n",
       "    </tr>\n",
       "  </tbody>\n",
       "</table>\n",
       "</div>"
      ],
      "text/plain": [
       "   child_mort  exports  health  imports  income  inflation  life_expec  \\\n",
       "0        26.1     46.7    5.44     56.7    7710      39.20        66.2   \n",
       "1        76.7     19.7    6.32     17.2    3370      19.60        66.3   \n",
       "2        90.5     22.8    6.59     34.9    1030      12.10        53.1   \n",
       "3         4.5     76.4   10.70     74.7   41100       1.88        80.0   \n",
       "4       116.0     41.1    7.91     49.6     609      20.80        57.5   \n",
       "\n",
       "   total_fer   gdpp  \n",
       "0       2.64   2650  \n",
       "1       4.88   1480  \n",
       "2       5.31    459  \n",
       "3       1.86  44400  \n",
       "4       6.54    334  "
      ]
     },
     "execution_count": 13,
     "metadata": {},
     "output_type": "execute_result"
    }
   ],
   "source": [
    "#Ignore column \"country\" cause it is not numeric and therefore can't be used for clustering.\n",
    "numeric_col = [\"child_mort\", \"exports\" ,\"health\" ,\"imports\",\"income\",\"inflation\",\"life_expec\",\"total_fer\",\"gdpp\"]\n",
    "num_df = df[numeric_col]\n",
    "num_df.head()"
   ]
  },
  {
   "cell_type": "code",
   "execution_count": 14,
   "metadata": {},
   "outputs": [
    {
     "data": {
      "text/plain": [
       "(array([[151.,   0.,   0.,   0.,   0.,   0.,   0.,   0.,   0.,   0.],\n",
       "        [151.,   0.,   0.,   0.,   0.,   0.,   0.,   0.,   0.,   0.],\n",
       "        [151.,   0.,   0.,   0.,   0.,   0.,   0.,   0.,   0.,   0.],\n",
       "        [151.,   0.,   0.,   0.,   0.,   0.,   0.,   0.,   0.,   0.],\n",
       "        [ 81.,  31.,  17.,  14.,   3.,   1.,   2.,   1.,   0.,   1.],\n",
       "        [151.,   0.,   0.,   0.,   0.,   0.,   0.,   0.,   0.,   0.],\n",
       "        [151.,   0.,   0.,   0.,   0.,   0.,   0.,   0.,   0.,   0.],\n",
       "        [151.,   0.,   0.,   0.,   0.,   0.,   0.,   0.,   0.,   0.],\n",
       "        [105.,  17.,   9.,  13.,   3.,   2.,   0.,   1.,   1.,   0.]]),\n",
       " array([-4.21000000e+00,  1.24962110e+04,  2.49966320e+04,  3.74970530e+04,\n",
       "         4.99974740e+04,  6.24978950e+04,  7.49983160e+04,  8.74987370e+04,\n",
       "         9.99991580e+04,  1.12499579e+05,  1.25000000e+05]),\n",
       " <a list of 9 BarContainer objects>)"
      ]
     },
     "execution_count": 14,
     "metadata": {},
     "output_type": "execute_result"
    },
    {
     "data": {
      "image/png": "[encoded data removed]",
      "text/plain": [
       "<Figure size 640x480 with 1 Axes>"
      ]
     },
     "metadata": {},
     "output_type": "display_data"
    }
   ],
   "source": [
    "#Visualize pre-scaled features by showing histogram\n",
    "import matplotlib.pyplot as plt\n",
    "plt.hist(num_df, bins=10)"
   ]
  },
  {
   "cell_type": "code",
   "execution_count": 15,
   "metadata": {},
   "outputs": [],
   "source": [
    "#Scale data\n",
    "#Data needs to be scaled so distance can be calculated correctly (because GDP is much larger than life expectancy for example)\n",
    "from sklearn.preprocessing import StandardScaler\n",
    "\n",
    "scaler = StandardScaler()\n",
    "#fit and transform data\n",
    "temp = scaler.fit_transform(num_df)\n",
    "#turn transformed data back into a dataframe\n",
    "scaled_df = pd.DataFrame(temp, columns=num_df.columns)\n"
   ]
  },
  {
   "cell_type": "code",
   "execution_count": 16,
   "metadata": {},
   "outputs": [
    {
     "data": {
      "text/plain": [
       "(array([[ 0.,  0., 84., 39., 22.,  5.,  1.,  0.,  0.,  0.],\n",
       "        [ 0.,  0., 66., 67., 15.,  0.,  2.,  1.,  0.,  0.],\n",
       "        [ 0.,  2., 61., 59., 26.,  2.,  1.,  0.,  0.,  0.],\n",
       "        [ 0.,  1., 61., 72., 13.,  1.,  2.,  1.,  0.,  0.],\n",
       "        [ 0.,  0., 76., 52., 17.,  4.,  1.,  1.,  0.,  0.],\n",
       "        [ 0.,  0., 61., 76., 11.,  2.,  0.,  0.,  0.,  1.],\n",
       "        [ 1.,  8., 37., 75., 30.,  0.,  0.,  0.,  0.,  0.],\n",
       "        [ 0.,  0., 73., 44., 30.,  4.,  0.,  0.,  0.,  0.],\n",
       "        [ 0.,  0., 85., 42., 19.,  3.,  1.,  1.,  0.,  0.]]),\n",
       " array([-4.30591416, -2.99631236, -1.68671055, -0.37710875,  0.93249305,\n",
       "         2.24209485,  3.55169665,  4.86129845,  6.17090025,  7.48050206,\n",
       "         8.79010386]),\n",
       " <a list of 9 BarContainer objects>)"
      ]
     },
     "execution_count": 16,
     "metadata": {},
     "output_type": "execute_result"
    },
    {
     "data": {
      "image/png": "[encoded data removed]",
      "text/plain": [
       "<Figure size 640x480 with 1 Axes>"
      ]
     },
     "metadata": {},
     "output_type": "display_data"
    }
   ],
   "source": [
    "#Visualize scaled features by showing histogram\n",
    "plt.hist(scaled_df, bins=10)"
   ]
  },
  {
   "attachments": {},
   "cell_type": "markdown",
   "metadata": {},
   "source": [
    "# 1: K-means clustering & Hierarchical clustering\n"
   ]
  },
  {
   "attachments": {},
   "cell_type": "markdown",
   "metadata": {},
   "source": [
    "## Find optimal number of clusters"
   ]
  },
  {
   "cell_type": "code",
   "execution_count": null,
   "metadata": {},
   "outputs": [],
   "source": []
  },
  {
   "attachments": {},
   "cell_type": "markdown",
   "metadata": {},
   "source": [
    "## K-Means Clustering"
   ]
  },
  {
   "cell_type": "code",
   "execution_count": 17,
   "metadata": {},
   "outputs": [
    {
     "name": "stdout",
     "output_type": "stream",
     "text": [
      "[3 1 1 0 1 0 3 3 3 1 1 3 3 1 1 3 1 3 3 3 1 1 3 1 3 3 3 0 3 3 3 3 1 3 3 1 3\n",
      " 3 3 3 0 1 3 0 0 0 1 1 0 3 1 1 1 3 0 3 0 0 3 3 3 1 3 3 3 0 1 1 0 0 3 1 3 3\n",
      " 3 3 2 3 0 0 3 1 3 1 1 3 0 3 0 3 3 1 3 0 3 2 3 0 3 3 1 1 3 0 0 1 3 3 3 0 3\n",
      " 2 3 3 1 3 3 0 0 1 3 0 1 3 3 3 1 1 3 3 1 3 3 1 1 1 3 3 3 0 0 3 1 1 3 1 0 3\n",
      " 3 3 3]\n"
     ]
    }
   ],
   "source": [
    "from sklearn.cluster import KMeans\n",
    "k = 4  # Choose the number of clusters\n",
    "kmeans = KMeans(n_clusters=k, random_state=42)\n",
    "kmeans_labels = kmeans.fit_predict(scaled_df)\n",
    "print(kmeans_labels)"
   ]
  },
  {
   "attachments": {},
   "cell_type": "markdown",
   "metadata": {},
   "source": [
    "## Hierarchical clustering"
   ]
  },
  {
   "cell_type": "code",
   "execution_count": null,
   "metadata": {},
   "outputs": [],
   "source": []
  },
  {
   "attachments": {},
   "cell_type": "markdown",
   "metadata": {},
   "source": [
    "# 2: PCA and Visualization"
   ]
  },
  {
   "attachments": {},
   "cell_type": "markdown",
   "metadata": {},
   "source": [
    "# 3: Suggestion\n",
    "I suggest we split the 10$ Million according to:"
   ]
  }
 ],
 "metadata": {
  "kernelspec": {
   "display_name": "Python 3",
   "language": "python",
   "name": "python3"
  },
  "language_info": {
   "codemirror_mode": {
    "name": "ipython",
    "version": 3
   },
   "file_extension": ".py",
   "mimetype": "text/x-python",
   "name": "python",
   "nbconvert_exporter": "python",
   "pygments_lexer": "ipython3",
   "version": "3.9.13"
  },
  "orig_nbformat": 4
 },
 "nbformat": 4,
 "nbformat_minor": 2
}
