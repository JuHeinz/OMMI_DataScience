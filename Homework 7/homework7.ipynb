{
 "cells": [
  {
   "cell_type": "code",
   "execution_count": 1,
   "metadata": {},
   "outputs": [],
   "source": [
    "import pandas as pd\n",
    "import matplotlib.pyplot as plt\n",
    "\n",
    "#read data into data frame\n",
    "date = pd.read_csv(\"date.csv\")\n",
    "patient = pd.read_csv(\"patient_info.csv\")\n",
    "\n",
    "\n"
   ]
  },
  {
   "cell_type": "code",
   "execution_count": 2,
   "metadata": {},
   "outputs": [
    {
     "name": "stdout",
     "output_type": "stream",
     "text": [
      "Before:\n"
     ]
    },
    {
     "data": {
      "text/plain": [
       "93     NaN\n",
       "263    NaN\n",
       "369    NaN\n",
       "803    NaN\n",
       "828    NaN\n",
       "958    NaN\n",
       "1001   NaN\n",
       "1052   NaN\n",
       "1055   NaN\n",
       "1060   NaN\n",
       "1069   NaN\n",
       "1141   NaN\n",
       "1262   NaN\n",
       "1356   NaN\n",
       "1442   NaN\n",
       "1793   NaN\n",
       "1967   NaN\n",
       "2132   NaN\n",
       "2191   NaN\n",
       "Name: BMI, dtype: float64"
      ]
     },
     "metadata": {},
     "output_type": "display_data"
    },
    {
     "name": "stdout",
     "output_type": "stream",
     "text": [
      "After:\n"
     ]
    },
    {
     "data": {
      "text/plain": [
       "Series([], Name: BMI, dtype: float64)"
      ]
     },
     "metadata": {},
     "output_type": "display_data"
    }
   ],
   "source": [
    "# 1.1. The missing value from BMI can be replaced with the mean value of its regarding gender\n",
    "\n",
    "\n",
    "#as a test, print all patients where BMI is NaN\n",
    "print(\"Before:\")\n",
    "display(patient[\"BMI\"][patient[\"BMI\"].isna()])\n",
    "\n",
    "#calculate mean by gender\n",
    "female = patient.loc[patient[\"Sex\"]==\"Female\"]\n",
    "male = patient.loc[patient[\"Sex\"]==\"Male\"]\n",
    "\n",
    "meanBmiM = male[\"BMI\"].mean();\n",
    "meanBmiF = female[\"BMI\"].mean();\n",
    "\n",
    "#replace with mean\n",
    "for x in patient.index:\n",
    "    if pd.isna(patient.loc[x, \"BMI\"]):\n",
    "        if (patient.loc[x, \"Sex\"]==\"Female\"):\n",
    "            patient.loc[x, \"BMI\"] = meanBmiF\n",
    "        else:\n",
    "            patient.loc[x, \"BMI\"] = meanBmiM\n",
    "\n",
    "\n",
    "#check if there is any NaN BMI data left\n",
    "print(\"After:\")\n",
    "display(patient[\"BMI\"][patient[\"BMI\"].isna()])\n",
    "\n",
    "\n"
   ]
  },
  {
   "cell_type": "code",
   "execution_count": 3,
   "metadata": {},
   "outputs": [
    {
     "name": "stdout",
     "output_type": "stream",
     "text": [
      "Before checks  13308\n",
      "After ID check : 13308\n",
      "After sex check:  13308\n",
      "After age check:  13302\n",
      "After Smoking check:  13284\n",
      "After BMI check:  13272\n",
      "After disease check:  13272\n"
     ]
    }
   ],
   "source": [
    "#1.2. Do the sanity check for all the columns in 2 files, and remove the sample which does not pass the sanity check\n",
    "\n",
    "#PATIENT\n",
    "print(\"Before checks \", patient.size)\n",
    "\n",
    "#Sanity check for ID (must be 7 digits)\n",
    "patient = patient[patient['Participant_ID'] >= 1000000]\n",
    "print(\"After ID check :\", patient.size)\n",
    "\n",
    "#Sanity check for sex (must be \"Male\" or \"Female\")\n",
    "patient = patient[patient[\"Sex\"].isin(['Male', \"Female\"])]\n",
    "print(\"After sex check: \", patient.size)\n",
    "\n",
    "#Sanity check for age (can't be below 40)\n",
    "patient = patient[patient['Age'] >= 40]\n",
    "print(\"After age check: \", patient.size)\n",
    "\n",
    "#Sanity check for Smoking Status (must be \"Never\", \"Previous\", \"Current\", \"Prefer not to answer\")\n",
    "allowedSmokingStatus = [\"Never\", \"Previous\", \"Current\", \"Prefer not to answer\"]\n",
    "patient = patient[patient[\"Smoking_status\"].isin(allowedSmokingStatus)]\n",
    "print(\"After Smoking check: \", patient.size)\n",
    "\n",
    "#Sanity check for BMI (must be between 15 and 60)\n",
    "patient = patient[patient['BMI'] >= 15]\n",
    "patient = patient[patient['BMI'] <= 60]\n",
    "print(\"After BMI check: \",patient.size)\n",
    "\n",
    "#Sanity check for Disease (must be 1 or 2)\n",
    "patient = patient[patient['Disease'].isin([1, 2])]\n",
    "print(\"After disease check: \", patient.size)\n",
    "\n",
    "\n",
    "\n",
    "\n",
    "\n",
    "\n",
    "\n"
   ]
  },
  {
   "cell_type": "code",
   "execution_count": 4,
   "metadata": {},
   "outputs": [
    {
     "name": "stdout",
     "output_type": "stream",
     "text": [
      "Before checks"
     ]
    },
    {
     "name": "stdout",
     "output_type": "stream",
     "text": [
      " 5782\n",
      "After ID check : 5782\n",
      "After date check : 5610\n"
     ]
    }
   ],
   "source": [
    "#DATE\n",
    "print(\"Before checks\", date.size)\n",
    "\n",
    "#Sanity check for ID (must be 7 digits)\n",
    "date = date[date['Participant_ID'] >= 1000000]\n",
    "print(\"After ID check :\", date.size)\n",
    "\n",
    "#Sanity check for VisitDate (must be after 1950-01-01 but before 2023-12-31)\n",
    "date['VisitDate'] = pd.to_datetime(date['VisitDate'], format='%d/%m/%Y')\n",
    "\n",
    "date = date[date[\"VisitDate\"].isin(pd.date_range(\"1950-01-01\", \"2023-12-31\"))]\n",
    "\n",
    "print(\"After date check :\", date.size)"
   ]
  },
  {
   "cell_type": "code",
   "execution_count": 5,
   "metadata": {},
   "outputs": [
    {
     "data": {
      "text/html": [
       "<div>\n",
       "<style scoped>\n",
       "    .dataframe tbody tr th:only-of-type {\n",
       "        vertical-align: middle;\n",
       "    }\n",
       "\n",
       "    .dataframe tbody tr th {\n",
       "        vertical-align: top;\n",
       "    }\n",
       "\n",
       "    .dataframe thead th {\n",
       "        text-align: right;\n",
       "    }\n",
       "</style>\n",
       "<table border=\"1\" class=\"dataframe\">\n",
       "  <thead>\n",
       "    <tr style=\"text-align: right;\">\n",
       "      <th></th>\n",
       "      <th>VisitDate</th>\n",
       "    </tr>\n",
       "    <tr>\n",
       "      <th>Participant_ID</th>\n",
       "      <th></th>\n",
       "    </tr>\n",
       "  </thead>\n",
       "  <tbody>\n",
       "    <tr>\n",
       "      <th>1003300</th>\n",
       "      <td>2</td>\n",
       "    </tr>\n",
       "    <tr>\n",
       "      <th>1004025</th>\n",
       "      <td>1</td>\n",
       "    </tr>\n",
       "    <tr>\n",
       "      <th>1005551</th>\n",
       "      <td>2</td>\n",
       "    </tr>\n",
       "    <tr>\n",
       "      <th>1005594</th>\n",
       "      <td>1</td>\n",
       "    </tr>\n",
       "    <tr>\n",
       "      <th>1005624</th>\n",
       "      <td>2</td>\n",
       "    </tr>\n",
       "    <tr>\n",
       "      <th>1008540</th>\n",
       "      <td>1</td>\n",
       "    </tr>\n",
       "    <tr>\n",
       "      <th>1008931</th>\n",
       "      <td>2</td>\n",
       "    </tr>\n",
       "    <tr>\n",
       "      <th>1010012</th>\n",
       "      <td>1</td>\n",
       "    </tr>\n",
       "    <tr>\n",
       "      <th>1010841</th>\n",
       "      <td>2</td>\n",
       "    </tr>\n",
       "    <tr>\n",
       "      <th>1015236</th>\n",
       "      <td>1</td>\n",
       "    </tr>\n",
       "  </tbody>\n",
       "</table>\n",
       "</div>"
      ],
      "text/plain": [
       "                VisitDate\n",
       "Participant_ID           \n",
       "1003300                 2\n",
       "1004025                 1\n",
       "1005551                 2\n",
       "1005594                 1\n",
       "1005624                 2\n",
       "1008540                 1\n",
       "1008931                 2\n",
       "1010012                 1\n",
       "1010841                 2\n",
       "1015236                 1"
      ]
     },
     "metadata": {},
     "output_type": "display_data"
    }
   ],
   "source": [
    "# 1.3. Calculate the number of visits of each patient, if the VisitDate is missing, means they don't visit the hospital during that period\n",
    "\n",
    "#count occurence of id in date, means get number of hospital visits for each id\n",
    "Number_of_visit =  date.groupby(\"Participant_ID\").count()\n",
    "display(Number_of_visit.head(10))\n"
   ]
  },
  {
   "cell_type": "code",
   "execution_count": 6,
   "metadata": {},
   "outputs": [
    {
     "data": {
      "text/html": [
       "<div>\n",
       "<style scoped>\n",
       "    .dataframe tbody tr th:only-of-type {\n",
       "        vertical-align: middle;\n",
       "    }\n",
       "\n",
       "    .dataframe tbody tr th {\n",
       "        vertical-align: top;\n",
       "    }\n",
       "\n",
       "    .dataframe thead th {\n",
       "        text-align: right;\n",
       "    }\n",
       "</style>\n",
       "<table border=\"1\" class=\"dataframe\">\n",
       "  <thead>\n",
       "    <tr style=\"text-align: right;\">\n",
       "      <th></th>\n",
       "      <th>Patient_ID</th>\n",
       "      <th>Sex</th>\n",
       "      <th>Age</th>\n",
       "      <th>BMI</th>\n",
       "      <th>Smoking_status</th>\n",
       "      <th>Number_of_visit</th>\n",
       "      <th>Disease</th>\n",
       "    </tr>\n",
       "  </thead>\n",
       "  <tbody>\n",
       "    <tr>\n",
       "      <th>0</th>\n",
       "      <td>1003300</td>\n",
       "      <td>Male</td>\n",
       "      <td>62</td>\n",
       "      <td>33.7597</td>\n",
       "      <td>Previous</td>\n",
       "      <td>2.0</td>\n",
       "      <td>2</td>\n",
       "    </tr>\n",
       "    <tr>\n",
       "      <th>1</th>\n",
       "      <td>1004025</td>\n",
       "      <td>Male</td>\n",
       "      <td>60</td>\n",
       "      <td>28.1173</td>\n",
       "      <td>Previous</td>\n",
       "      <td>1.0</td>\n",
       "      <td>1</td>\n",
       "    </tr>\n",
       "    <tr>\n",
       "      <th>2</th>\n",
       "      <td>1005551</td>\n",
       "      <td>Male</td>\n",
       "      <td>69</td>\n",
       "      <td>26.4159</td>\n",
       "      <td>Previous</td>\n",
       "      <td>2.0</td>\n",
       "      <td>2</td>\n",
       "    </tr>\n",
       "    <tr>\n",
       "      <th>3</th>\n",
       "      <td>1005594</td>\n",
       "      <td>Male</td>\n",
       "      <td>64</td>\n",
       "      <td>24.7550</td>\n",
       "      <td>Previous</td>\n",
       "      <td>1.0</td>\n",
       "      <td>1</td>\n",
       "    </tr>\n",
       "    <tr>\n",
       "      <th>4</th>\n",
       "      <td>1005624</td>\n",
       "      <td>Male</td>\n",
       "      <td>64</td>\n",
       "      <td>35.0773</td>\n",
       "      <td>Previous</td>\n",
       "      <td>2.0</td>\n",
       "      <td>2</td>\n",
       "    </tr>\n",
       "    <tr>\n",
       "      <th>5</th>\n",
       "      <td>1008540</td>\n",
       "      <td>Female</td>\n",
       "      <td>64</td>\n",
       "      <td>21.6764</td>\n",
       "      <td>Previous</td>\n",
       "      <td>1.0</td>\n",
       "      <td>2</td>\n",
       "    </tr>\n",
       "    <tr>\n",
       "      <th>6</th>\n",
       "      <td>1008931</td>\n",
       "      <td>Male</td>\n",
       "      <td>62</td>\n",
       "      <td>26.9529</td>\n",
       "      <td>Previous</td>\n",
       "      <td>2.0</td>\n",
       "      <td>2</td>\n",
       "    </tr>\n",
       "    <tr>\n",
       "      <th>7</th>\n",
       "      <td>1010012</td>\n",
       "      <td>Male</td>\n",
       "      <td>66</td>\n",
       "      <td>33.8126</td>\n",
       "      <td>Never</td>\n",
       "      <td>1.0</td>\n",
       "      <td>2</td>\n",
       "    </tr>\n",
       "    <tr>\n",
       "      <th>8</th>\n",
       "      <td>1010841</td>\n",
       "      <td>Male</td>\n",
       "      <td>58</td>\n",
       "      <td>30.0826</td>\n",
       "      <td>Previous</td>\n",
       "      <td>2.0</td>\n",
       "      <td>1</td>\n",
       "    </tr>\n",
       "    <tr>\n",
       "      <th>9</th>\n",
       "      <td>1015236</td>\n",
       "      <td>Male</td>\n",
       "      <td>63</td>\n",
       "      <td>23.8804</td>\n",
       "      <td>Previous</td>\n",
       "      <td>1.0</td>\n",
       "      <td>2</td>\n",
       "    </tr>\n",
       "    <tr>\n",
       "      <th>10</th>\n",
       "      <td>1022720</td>\n",
       "      <td>Male</td>\n",
       "      <td>40</td>\n",
       "      <td>37.5521</td>\n",
       "      <td>Never</td>\n",
       "      <td>1.0</td>\n",
       "      <td>2</td>\n",
       "    </tr>\n",
       "    <tr>\n",
       "      <th>11</th>\n",
       "      <td>1030927</td>\n",
       "      <td>Male</td>\n",
       "      <td>69</td>\n",
       "      <td>24.9525</td>\n",
       "      <td>Previous</td>\n",
       "      <td>1.0</td>\n",
       "      <td>2</td>\n",
       "    </tr>\n",
       "    <tr>\n",
       "      <th>12</th>\n",
       "      <td>1031255</td>\n",
       "      <td>Male</td>\n",
       "      <td>63</td>\n",
       "      <td>26.3728</td>\n",
       "      <td>Previous</td>\n",
       "      <td>1.0</td>\n",
       "      <td>2</td>\n",
       "    </tr>\n",
       "    <tr>\n",
       "      <th>13</th>\n",
       "      <td>1033353</td>\n",
       "      <td>Female</td>\n",
       "      <td>67</td>\n",
       "      <td>24.1795</td>\n",
       "      <td>Previous</td>\n",
       "      <td>3.0</td>\n",
       "      <td>2</td>\n",
       "    </tr>\n",
       "    <tr>\n",
       "      <th>14</th>\n",
       "      <td>1038476</td>\n",
       "      <td>Male</td>\n",
       "      <td>66</td>\n",
       "      <td>27.5652</td>\n",
       "      <td>Never</td>\n",
       "      <td>1.0</td>\n",
       "      <td>2</td>\n",
       "    </tr>\n",
       "    <tr>\n",
       "      <th>15</th>\n",
       "      <td>1039893</td>\n",
       "      <td>Female</td>\n",
       "      <td>61</td>\n",
       "      <td>23.7645</td>\n",
       "      <td>Never</td>\n",
       "      <td>1.0</td>\n",
       "      <td>1</td>\n",
       "    </tr>\n",
       "    <tr>\n",
       "      <th>16</th>\n",
       "      <td>1041231</td>\n",
       "      <td>Male</td>\n",
       "      <td>65</td>\n",
       "      <td>27.8533</td>\n",
       "      <td>Never</td>\n",
       "      <td>0.0</td>\n",
       "      <td>1</td>\n",
       "    </tr>\n",
       "    <tr>\n",
       "      <th>17</th>\n",
       "      <td>1043442</td>\n",
       "      <td>Male</td>\n",
       "      <td>67</td>\n",
       "      <td>27.9662</td>\n",
       "      <td>Previous</td>\n",
       "      <td>1.0</td>\n",
       "      <td>2</td>\n",
       "    </tr>\n",
       "    <tr>\n",
       "      <th>18</th>\n",
       "      <td>1044192</td>\n",
       "      <td>Female</td>\n",
       "      <td>44</td>\n",
       "      <td>28.9634</td>\n",
       "      <td>Never</td>\n",
       "      <td>1.0</td>\n",
       "      <td>1</td>\n",
       "    </tr>\n",
       "    <tr>\n",
       "      <th>19</th>\n",
       "      <td>1046601</td>\n",
       "      <td>Male</td>\n",
       "      <td>69</td>\n",
       "      <td>27.1280</td>\n",
       "      <td>Never</td>\n",
       "      <td>1.0</td>\n",
       "      <td>2</td>\n",
       "    </tr>\n",
       "    <tr>\n",
       "      <th>20</th>\n",
       "      <td>1054693</td>\n",
       "      <td>Male</td>\n",
       "      <td>55</td>\n",
       "      <td>31.9426</td>\n",
       "      <td>Never</td>\n",
       "      <td>1.0</td>\n",
       "      <td>2</td>\n",
       "    </tr>\n",
       "    <tr>\n",
       "      <th>21</th>\n",
       "      <td>1055009</td>\n",
       "      <td>Male</td>\n",
       "      <td>66</td>\n",
       "      <td>31.7061</td>\n",
       "      <td>Previous</td>\n",
       "      <td>1.0</td>\n",
       "      <td>1</td>\n",
       "    </tr>\n",
       "    <tr>\n",
       "      <th>22</th>\n",
       "      <td>1065297</td>\n",
       "      <td>Male</td>\n",
       "      <td>52</td>\n",
       "      <td>39.2429</td>\n",
       "      <td>Previous</td>\n",
       "      <td>1.0</td>\n",
       "      <td>2</td>\n",
       "    </tr>\n",
       "    <tr>\n",
       "      <th>23</th>\n",
       "      <td>1065453</td>\n",
       "      <td>Male</td>\n",
       "      <td>69</td>\n",
       "      <td>29.0657</td>\n",
       "      <td>Previous</td>\n",
       "      <td>1.0</td>\n",
       "      <td>1</td>\n",
       "    </tr>\n",
       "    <tr>\n",
       "      <th>24</th>\n",
       "      <td>1068968</td>\n",
       "      <td>Male</td>\n",
       "      <td>69</td>\n",
       "      <td>32.6331</td>\n",
       "      <td>Previous</td>\n",
       "      <td>4.0</td>\n",
       "      <td>2</td>\n",
       "    </tr>\n",
       "    <tr>\n",
       "      <th>25</th>\n",
       "      <td>1073595</td>\n",
       "      <td>Male</td>\n",
       "      <td>69</td>\n",
       "      <td>34.1870</td>\n",
       "      <td>Current</td>\n",
       "      <td>1.0</td>\n",
       "      <td>2</td>\n",
       "    </tr>\n",
       "    <tr>\n",
       "      <th>26</th>\n",
       "      <td>1076563</td>\n",
       "      <td>Male</td>\n",
       "      <td>62</td>\n",
       "      <td>27.5218</td>\n",
       "      <td>Never</td>\n",
       "      <td>1.0</td>\n",
       "      <td>2</td>\n",
       "    </tr>\n",
       "    <tr>\n",
       "      <th>27</th>\n",
       "      <td>1078461</td>\n",
       "      <td>Male</td>\n",
       "      <td>63</td>\n",
       "      <td>38.8642</td>\n",
       "      <td>Never</td>\n",
       "      <td>1.0</td>\n",
       "      <td>2</td>\n",
       "    </tr>\n",
       "    <tr>\n",
       "      <th>28</th>\n",
       "      <td>1087236</td>\n",
       "      <td>Male</td>\n",
       "      <td>69</td>\n",
       "      <td>28.4951</td>\n",
       "      <td>Previous</td>\n",
       "      <td>1.0</td>\n",
       "      <td>2</td>\n",
       "    </tr>\n",
       "    <tr>\n",
       "      <th>29</th>\n",
       "      <td>1089638</td>\n",
       "      <td>Male</td>\n",
       "      <td>60</td>\n",
       "      <td>21.5554</td>\n",
       "      <td>Current</td>\n",
       "      <td>1.0</td>\n",
       "      <td>2</td>\n",
       "    </tr>\n",
       "  </tbody>\n",
       "</table>\n",
       "</div>"
      ],
      "text/plain": [
       "    Patient_ID     Sex  Age      BMI Smoking_status  Number_of_visit  Disease\n",
       "0      1003300    Male   62  33.7597       Previous              2.0        2\n",
       "1      1004025    Male   60  28.1173       Previous              1.0        1\n",
       "2      1005551    Male   69  26.4159       Previous              2.0        2\n",
       "3      1005594    Male   64  24.7550       Previous              1.0        1\n",
       "4      1005624    Male   64  35.0773       Previous              2.0        2\n",
       "5      1008540  Female   64  21.6764       Previous              1.0        2\n",
       "6      1008931    Male   62  26.9529       Previous              2.0        2\n",
       "7      1010012    Male   66  33.8126          Never              1.0        2\n",
       "8      1010841    Male   58  30.0826       Previous              2.0        1\n",
       "9      1015236    Male   63  23.8804       Previous              1.0        2\n",
       "10     1022720    Male   40  37.5521          Never              1.0        2\n",
       "11     1030927    Male   69  24.9525       Previous              1.0        2\n",
       "12     1031255    Male   63  26.3728       Previous              1.0        2\n",
       "13     1033353  Female   67  24.1795       Previous              3.0        2\n",
       "14     1038476    Male   66  27.5652          Never              1.0        2\n",
       "15     1039893  Female   61  23.7645          Never              1.0        1\n",
       "16     1041231    Male   65  27.8533          Never              0.0        1\n",
       "17     1043442    Male   67  27.9662       Previous              1.0        2\n",
       "18     1044192  Female   44  28.9634          Never              1.0        1\n",
       "19     1046601    Male   69  27.1280          Never              1.0        2\n",
       "20     1054693    Male   55  31.9426          Never              1.0        2\n",
       "21     1055009    Male   66  31.7061       Previous              1.0        1\n",
       "22     1065297    Male   52  39.2429       Previous              1.0        2\n",
       "23     1065453    Male   69  29.0657       Previous              1.0        1\n",
       "24     1068968    Male   69  32.6331       Previous              4.0        2\n",
       "25     1073595    Male   69  34.1870        Current              1.0        2\n",
       "26     1076563    Male   62  27.5218          Never              1.0        2\n",
       "27     1078461    Male   63  38.8642          Never              1.0        2\n",
       "28     1087236    Male   69  28.4951       Previous              1.0        2\n",
       "29     1089638    Male   60  21.5554        Current              1.0        2"
      ]
     },
     "metadata": {},
     "output_type": "display_data"
    }
   ],
   "source": [
    "# 1.4. Merge two files with columns: Patient_ID, Sex, Age, BMI, Smoking_status, Number_of_visit, Disease\n",
    "\n",
    "# make a new dataframe from patient and number of visits\n",
    "# right means, if a patient does not have a hopital visit it is NaN\n",
    "df= pd.merge(Number_of_visit, patient, on=\"Participant_ID\", how=\"right\")\n",
    "\n",
    "\n",
    "# replace NaN with 0\n",
    "df[\"VisitDate\"].fillna(0, inplace = True)\n",
    "\n",
    "# rename columns\n",
    "df = df.rename(columns={'Participant_ID': 'Patient_ID', 'VisitDate': 'Number_of_visit'})\n",
    "\n",
    "#reorder columns\n",
    "df = df[[\"Patient_ID\", \"Sex\", \"Age\", \"BMI\", \"Smoking_status\", \"Number_of_visit\", \"Disease\"]]\n",
    "display(df.head(30))\n",
    "\n"
   ]
  },
  {
   "cell_type": "code",
   "execution_count": 12,
   "metadata": {},
   "outputs": [
    {
     "name": "stdout",
     "output_type": "stream",
     "text": [
      "MEAN\n",
      "Sick 29.041335734795698\n",
      "Healthy 29.087936257262704\n",
      "MEDIAN\n",
      "Sick 28.3642\n",
      "Healthy 28.1667\n",
      "DESCRIBE (helthy, sick)\n"
     ]
    },
    {
     "data": {
      "text/plain": [
       "count    565.000000\n",
       "mean      29.041336\n",
       "std        5.118812\n",
       "min       16.003700\n",
       "25%       25.601500\n",
       "50%       28.364200\n",
       "75%       32.100100\n",
       "max       53.485700\n",
       "Name: BMI, dtype: float64"
      ]
     },
     "metadata": {},
     "output_type": "display_data"
    },
    {
     "data": {
      "text/plain": [
       "count    1647.000000\n",
       "mean       29.087936\n",
       "std         5.214853\n",
       "min        16.099500\n",
       "25%        25.522500\n",
       "50%        28.166700\n",
       "75%        31.882100\n",
       "max        58.946800\n",
       "Name: BMI, dtype: float64"
      ]
     },
     "metadata": {},
     "output_type": "display_data"
    },
    {
     "data": {
      "image/png": "[encoded data removed]",
      "text/plain": [
       "<Figure size 640x480 with 1 Axes>"
      ]
     },
     "metadata": {},
     "output_type": "display_data"
    },
    {
     "data": {
      "image/png": "[encoded data removed]",
      "text/plain": [
       "<Figure size 640x480 with 1 Axes>"
      ]
     },
     "metadata": {},
     "output_type": "display_data"
    },
    {
     "data": {
      "image/png": "[encoded data removed]",
      "text/plain": [
       "<Figure size 640x480 with 1 Axes>"
      ]
     },
     "metadata": {},
     "output_type": "display_data"
    }
   ],
   "source": [
    "# 2.1. Is the BMI different between the healthy and control group? make the box/violin chart\n",
    "df_sick = df[df[\"Disease\"] == 1]\n",
    "df_healthy = df[df[\"Disease\"] == 2]\n",
    "\n",
    "print(\"MEAN\")\n",
    "print(\"Sick\", df_sick[\"BMI\"].mean())\n",
    "print(\"Healthy\", df_healthy[\"BMI\"].mean())\n",
    "\n",
    "print(\"MEDIAN\")\n",
    "print(\"Sick\", df_sick[\"BMI\"].median())\n",
    "print(\"Healthy\", df_healthy[\"BMI\"].median())\n",
    "\n",
    "print(\"DESCRIBE\")\n",
    "display(\"Sick\", df_sick[\"BMI\"].describe())\n",
    "display(\"Healthy\", df_healthy[\"BMI\"].describe())\n",
    "\n",
    "#Violin Chart\n",
    "groupedByHealth = df.groupby(\"Disease\")[\"BMI\"].apply(list)\n",
    "plt.violinplot(groupedByHealth, showmedians=True)\n",
    "plt.title(\"Violin chart\")\n",
    "plt.xlabel('Disease (1 = yes, 2 = no)')\n",
    "plt.ylabel('BMI')\n",
    "\n",
    "plt.show()\n",
    "\n",
    "\n",
    "#Box plots\n",
    "plt.title(\"Box plot sick group\")\n",
    "plt.boxplot(df_sick[\"BMI\"])\n",
    "plt.ylabel('BMI')\n",
    "\n",
    "plt.show()\n",
    "\n",
    "plt.title(\"Box plot healthy group\")\n",
    "plt.boxplot(df_healthy[\"BMI\"])\n",
    "plt.ylabel('BMI')\n",
    "\n",
    "plt.show()\n",
    "\n",
    "\n",
    "#Between healthy and sick patients the mean BMI (29.04 vs  29.09) as well as Median BMI (28.3642 vs 28.1667) are very similar. Even the distribution is very similar, the only significant difference is that in the healthy group, the max BMI was at 58.9 vs 53.49 for the sick group)  "
   ]
  },
  {
   "cell_type": "code",
   "execution_count": 28,
   "metadata": {},
   "outputs": [
    {
     "name": "stdout",
     "output_type": "stream",
     "text": [
      "Smoking status in both groups together\n",
      "Previous                1004\n",
      "Never                    849\n",
      "Current                  350\n",
      "Prefer not to answer       9\n",
      "Name: Smoking_status, dtype: int64\n"
     ]
    },
    {
     "data": {
      "text/plain": [
       "Disease  Smoking_status      \n",
       "1        Previous                254\n",
       "         Never                   214\n",
       "         Current                  92\n",
       "         Prefer not to answer      5\n",
       "2        Previous                750\n",
       "         Never                   635\n",
       "         Current                 258\n",
       "         Prefer not to answer      4\n",
       "Name: Smoking_status, dtype: int64"
      ]
     },
     "metadata": {},
     "output_type": "display_data"
    },
    {
     "name": "stdout",
     "output_type": "stream",
     "text": [
      "HEALTHY\n"
     ]
    },
    {
     "data": {
      "text/plain": [
       "Smoking_status\n",
       "Previous                45.537341\n",
       "Never                   38.554948\n",
       "Current                 15.664845\n",
       "Prefer not to answer     0.242866\n",
       "Name: Smoking_status, dtype: float64"
      ]
     },
     "metadata": {},
     "output_type": "display_data"
    },
    {
     "name": "stdout",
     "output_type": "stream",
     "text": [
      "SICK\n"
     ]
    },
    {
     "data": {
      "text/plain": [
       "Smoking_status\n",
       "Previous                44.955752\n",
       "Never                   37.876106\n",
       "Current                 16.283186\n",
       "Prefer not to answer     0.884956\n",
       "Name: Smoking_status, dtype: float64"
      ]
     },
     "metadata": {},
     "output_type": "display_data"
    }
   ],
   "source": [
    "# 2.2. Is the proportion of Smoke status different between the healthy and control group?\n",
    "\n",
    "#calucate the total of each status \n",
    "total = df[\"Smoking_status\"].value_counts()\n",
    "print(\"Smoking status in both groups together\")\n",
    "print(total)\n",
    "\n",
    "#Smoking status grouped by healthy\n",
    "grouped_df = df.groupby('Disease')['Smoking_status'].value_counts()\n",
    "display(grouped_df)\n",
    "\n",
    "#Calculate percentages for smoking status in sick group\n",
    "healthy_percentages = (grouped_df[2] / grouped_df[2].sum()) * 100\n",
    "print(\"HEALTHY\")\n",
    "display(healthy_percentages)\n",
    "\n",
    "sick_percentages =(grouped_df[1] / grouped_df[1].sum()) * 100\n",
    "print(\"SICK\")\n",
    "display(sick_percentages)\n",
    "\n",
    "#The porportion of smoking status between the sick and healthy groups is only slightly different. The sick group only has a slightly higher percentage of current smokers (16.28%) than the healthy group (15.66%). The percentage of previous smokers is also pretty similar, healthy = 45.53%, sick = 44.96%. Therefore the percentage of patients who never smoked is similar too.  \n"
   ]
  },
  {
   "cell_type": "code",
   "execution_count": 68,
   "metadata": {},
   "outputs": [
    {
     "name": "stdout",
     "output_type": "stream",
     "text": [
      "Current:  1.3 | Previous:  1.2659362549800797 | Never:  1.2508833922261484\n"
     ]
    }
   ],
   "source": [
    "# 2.3. Is the smoke status related to the number of Hospital visits regardless of the disease? (ignore the \"Prefer not to answer\")\n",
    "currentSmokers = df[df[\"Smoking_status\"] == \"Current\"]\n",
    "previousSmokers = df[df[\"Smoking_status\"] == \"Previous\"]\n",
    "neverSmokers = df[df[\"Smoking_status\"] == \"Never\"]\n",
    "\n",
    "print(\"Current: \", currentSmokers[\"Number_of_visit\"].mean(), \"| Previous: \", previousSmokers[\"Number_of_visit\"].mean(),\"| Never: \", neverSmokers[\"Number_of_visit\"].mean() )\n",
    "\n",
    "#The average number of hospital visits for people who currently smoke is slightly higher (1.3) than that of people who have previously smoked (1.26). The people who have never smoked have a slightly lower visit average (1.25)"
   ]
  },
  {
   "cell_type": "code",
   "execution_count": 64,
   "metadata": {},
   "outputs": [
    {
     "name": "stdout",
     "output_type": "stream",
     "text": [
      "2800.0 718.0 2082.0\n",
      "2800.0\n"
     ]
    },
    {
     "data": {
      "text/plain": [
       "'\\'\\'\\ngrouped_visits_disease = df.groupby(\"Number_of_visit\")[\"Disease\"].value_counts()\\ndisplay(grouped_visits_disease)\\nprint(\"SICK\", grouped_visits_disease[1].mean())\\nprint(\"HEALTHY\", grouped_visits_disease[2].mean())\\n\\n\\nsick_per = (grouped_visits_disease[1] / grouped_visits_disease[1].sum()) * 100\\nprint(\"HEALTHY:\")\\ndisplay(sick_per)\\nhealthy_per = (grouped_visits_disease[2] / grouped_visits_disease[2].sum()) * 100\\nprint(\"HEALTHY:\")\\ndisplay(healthy_per)\\n'"
      ]
     },
     "execution_count": 64,
     "metadata": {},
     "output_type": "execute_result"
    }
   ],
   "source": [
    "# 2.4. Is the number of visits higher in the Disease group than in the Healthy group?\n",
    "\n",
    "\n",
    "totalVisits = df[\"Number_of_visit\"].sum()\n",
    "\n",
    "sickVisits = df_sick[\"Number_of_visit\"].sum()\n",
    "healthyVisits = df_healthy[\"Number_of_visit\"].sum()\n",
    "\n",
    "\n",
    "print(totalVisits, sickVisits, healthyVisits)\n",
    "\n",
    "#No, the healthy group went to the hopital a total of 2082 times while the sick group went 718 times.\n",
    "\n"
   ]
  },
  {
   "cell_type": "code",
   "execution_count": 34,
   "metadata": {},
   "outputs": [
    {
     "data": {
      "text/plain": [
       "Smoking_status\n",
       "Previous                48.857868\n",
       "Never                   35.152284\n",
       "Current                 15.482234\n",
       "Prefer not to answer     0.507614\n",
       "Name: Smoking_status, dtype: float64"
      ]
     },
     "metadata": {},
     "output_type": "display_data"
    },
    {
     "data": {
      "text/plain": [
       "Smoking_status\n",
       "Never                   46.383648\n",
       "Previous                36.792453\n",
       "Current                 16.666667\n",
       "Prefer not to answer     0.157233\n",
       "Name: Smoking_status, dtype: float64"
      ]
     },
     "metadata": {},
     "output_type": "display_data"
    }
   ],
   "source": [
    "#2.5. Do Male has a higher current smoke percentage compared to Female?\n",
    "grouped_sex_smoke = df.groupby('Sex')['Smoking_status'].value_counts()\n",
    "female_percentages = (grouped_sex_smoke[\"Female\"] / grouped_sex_smoke[\"Female\"].sum()) * 100\n",
    "male_percentages = (grouped_sex_smoke[\"Male\"] / grouped_sex_smoke[\"Male\"].sum()) * 100\n",
    "\n",
    "display(male_percentages, female_percentages)\n",
    "# No, males have a current smoke percentage of 15.48% while females are at 16,67%\n"
   ]
  }
 ],
 "metadata": {
  "kernelspec": {
   "display_name": "Python 3",
   "language": "python",
   "name": "python3"
  },
  "language_info": {
   "codemirror_mode": {
    "name": "ipython",
    "version": 3
   },
   "file_extension": ".py",
   "mimetype": "text/x-python",
   "name": "python",
   "nbconvert_exporter": "python",
   "pygments_lexer": "ipython3",
   "version": "3.9.13"
  },
  "orig_nbformat": 4
 },
 "nbformat": 4,
 "nbformat_minor": 2
}
