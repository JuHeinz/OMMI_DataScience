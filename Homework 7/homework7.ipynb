{
 "cells": [
  {
   "cell_type": "code",
   "execution_count": 1,
   "metadata": {},
   "outputs": [],
   "source": [
    "import pandas as pd\n",
    "#read data into data frame\n",
    "date = pd.read_csv(\"date.csv\")\n",
    "patient = pd.read_csv(\"patient_info.csv\")\n",
    "\n",
    "\n"
   ]
  },
  {
   "cell_type": "code",
   "execution_count": 2,
   "metadata": {},
   "outputs": [
    {
     "name": "stdout",
     "output_type": "stream",
     "text": [
      "Before:\n",
      "93     NaN\n",
      "263    NaN\n",
      "369    NaN\n",
      "803    NaN\n",
      "828    NaN\n",
      "958    NaN\n",
      "1001   NaN\n",
      "1052   NaN\n",
      "1055   NaN\n",
      "1060   NaN\n",
      "1069   NaN\n",
      "1141   NaN\n",
      "1262   NaN\n",
      "1356   NaN\n",
      "1442   NaN\n",
      "1793   NaN\n",
      "1967   NaN\n",
      "2132   NaN\n",
      "2191   NaN\n",
      "Name: BMI, dtype: float64\n",
      "After:\n",
      "Series([], Name: BMI, dtype: float64)\n"
     ]
    }
   ],
   "source": [
    "# 1.1. The missing value from BMI can be replaced with the mean value of its regarding gender\n",
    "\n",
    "\n",
    "#as a test, print all patients where BMI is NaN\n",
    "print(\"Before:\")\n",
    "print(patient[\"BMI\"][patient[\"BMI\"].isna()])\n",
    "\n",
    "#calculate mean by gender\n",
    "female = patient.loc[patient[\"Sex\"]==\"Female\"]\n",
    "male = patient.loc[patient[\"Sex\"]==\"Male\"]\n",
    "\n",
    "meanBmiM = male[\"BMI\"].mean();\n",
    "meanBmiF = female[\"BMI\"].mean();\n",
    "\n",
    "#replace with mean\n",
    "for x in patient.index:\n",
    "    if pd.isna(patient.loc[x, \"BMI\"]):\n",
    "        if (patient.loc[x, \"Sex\"]==\"Female\"):\n",
    "            patient.loc[x, \"BMI\"] = meanBmiF\n",
    "        else:\n",
    "            patient.loc[x, \"BMI\"] = meanBmiM\n",
    "\n",
    "\n",
    "#check if there is any NaN BMI data left\n",
    "print(\"After:\")\n",
    "print(patient[\"BMI\"][patient[\"BMI\"].isna()])\n",
    "\n",
    "\n"
   ]
  },
  {
   "cell_type": "code",
   "execution_count": 3,
   "metadata": {},
   "outputs": [
    {
     "name": "stdout",
     "output_type": "stream",
     "text": [
      "13308\n",
      "After ID check : 13308\n",
      "After sex check:  13308\n",
      "After age check:  13302\n",
      "After Smoking check:  13284\n",
      "After BMI check:  13272\n",
      "After disease check:  13272\n"
     ]
    }
   ],
   "source": [
    "#1.2. Do the sanity check for all the columns in 2 files, and remove the sample which does not pass the sanity check\n",
    "\n",
    "#PATIENT\n",
    "print(patient.size)\n",
    "\n",
    "#Sanity check for ID (must be 7 digits)\n",
    "patient = patient[patient['Participant_ID'] >= 1000000]\n",
    "print(\"After ID check :\", patient.size)\n",
    "\n",
    "#Sanity check for sex (must be \"Male\" or \"Female\")\n",
    "patient = patient[patient[\"Sex\"].isin(['Male', \"Female\"])]\n",
    "print(\"After sex check: \", patient.size)\n",
    "\n",
    "#Sanity check for age (can't be below 40)\n",
    "patient = patient[patient['Age'] >= 40]\n",
    "print(\"After age check: \", patient.size)\n",
    "\n",
    "#Sanity check for Smoking Status (must be \"Never\", \"Previous\", \"Current\", \"Prefer not to answer\")\n",
    "allowedSmokingStatus = [\"Never\", \"Previous\", \"Current\", \"Prefer not to answer\"]\n",
    "patient = patient[patient[\"Smoking_status\"].isin(allowedSmokingStatus)]\n",
    "print(\"After Smoking check: \", patient.size)\n",
    "\n",
    "#Sanity check for BMI (must be between 15 and 60)\n",
    "patient = patient[patient['BMI'] >= 15]\n",
    "patient = patient[patient['BMI'] <= 60]\n",
    "print(\"After BMI check: \",patient.size)\n",
    "\n",
    "#Sanity check for Disease (must be 1 or 2)\n",
    "patient = patient[patient['Disease'].isin([1, 2])]\n",
    "print(\"After disease check: \", patient.size)\n",
    "\n",
    "\n",
    "\n",
    "\n",
    "\n",
    "\n",
    "\n"
   ]
  },
  {
   "cell_type": "code",
   "execution_count": 4,
   "metadata": {},
   "outputs": [
    {
     "name": "stdout",
     "output_type": "stream",
     "text": [
      "5782\n",
      "After ID check : 5782\n",
      "After date check : 5610\n"
     ]
    }
   ],
   "source": [
    "#DATE\n",
    "print(date.size)\n",
    "#Sanity check for ID (must be 7 digits)\n",
    "date = date[date['Participant_ID'] >= 1000000]\n",
    "print(\"After ID check :\", date.size)\n",
    "\n",
    "#Sanity check for VisitDate (must be after 1950-01-01 but before 2023-12-31)\n",
    "date['VisitDate'] = pd.to_datetime(date['VisitDate'], format='%d/%m/%Y')\n",
    "\n",
    "date = date[date[\"VisitDate\"].isin(pd.date_range(\"1950-01-01\", \"2023-12-31\"))]\n",
    "\n",
    "print(\"After date check :\", date.size)"
   ]
  },
  {
   "cell_type": "code",
   "execution_count": 5,
   "metadata": {},
   "outputs": [
    {
     "name": "stdout",
     "output_type": "stream",
     "text": [
      "                VisitDate\n",
      "Participant_ID           \n",
      "1003300                 2\n",
      "1004025                 1\n",
      "1005551                 2\n",
      "1005594                 1\n",
      "1005624                 2\n",
      "1008540                 1\n",
      "1008931                 2\n",
      "1010012                 1\n",
      "1010841                 2\n",
      "1015236                 1\n",
      "17\n"
     ]
    }
   ],
   "source": [
    "# 1.3. Calculate the number of visits of each patient, if the VisitDate is missing, means they don't visit the hospital during that period\n",
    "\n",
    "#count occurence of id in date, means get number of hospital visits for each id\n",
    "Number_of_visit =  date.groupby(\"Participant_ID\").count()\n",
    "print(Number_of_visit.head(10))\n",
    "print(Number_of_visit[\"VisitDate\"].max())"
   ]
  },
  {
   "cell_type": "code",
   "execution_count": 18,
   "metadata": {},
   "outputs": [
    {
     "name": "stdout",
     "output_type": "stream",
     "text": [
      "    Patient_ID     Sex  Age      BMI Smoking_status  Number_of_visit  Disease\n",
      "0      1003300    Male   62  33.7597       Previous              2.0        2\n",
      "1      1004025    Male   60  28.1173       Previous              1.0        1\n",
      "2      1005551    Male   69  26.4159       Previous              2.0        2\n",
      "3      1005594    Male   64  24.7550       Previous              1.0        1\n",
      "4      1005624    Male   64  35.0773       Previous              2.0        2\n",
      "5      1008540  Female   64  21.6764       Previous              1.0        2\n",
      "6      1008931    Male   62  26.9529       Previous              2.0        2\n",
      "7      1010012    Male   66  33.8126          Never              1.0        2\n",
      "8      1010841    Male   58  30.0826       Previous              2.0        1\n",
      "9      1015236    Male   63  23.8804       Previous              1.0        2\n",
      "10     1022720    Male   40  37.5521          Never              1.0        2\n",
      "11     1030927    Male   69  24.9525       Previous              1.0        2\n",
      "12     1031255    Male   63  26.3728       Previous              1.0        2\n",
      "13     1033353  Female   67  24.1795       Previous              3.0        2\n",
      "14     1038476    Male   66  27.5652          Never              1.0        2\n",
      "15     1039893  Female   61  23.7645          Never              1.0        1\n",
      "16     1041231    Male   65  27.8533          Never              0.0        1\n",
      "17     1043442    Male   67  27.9662       Previous              1.0        2\n",
      "18     1044192  Female   44  28.9634          Never              1.0        1\n",
      "19     1046601    Male   69  27.1280          Never              1.0        2\n",
      "20     1054693    Male   55  31.9426          Never              1.0        2\n",
      "21     1055009    Male   66  31.7061       Previous              1.0        1\n",
      "22     1065297    Male   52  39.2429       Previous              1.0        2\n",
      "23     1065453    Male   69  29.0657       Previous              1.0        1\n",
      "24     1068968    Male   69  32.6331       Previous              4.0        2\n",
      "25     1073595    Male   69  34.1870        Current              1.0        2\n",
      "26     1076563    Male   62  27.5218          Never              1.0        2\n",
      "27     1078461    Male   63  38.8642          Never              1.0        2\n",
      "28     1087236    Male   69  28.4951       Previous              1.0        2\n",
      "29     1089638    Male   60  21.5554        Current              1.0        2\n"
     ]
    }
   ],
   "source": [
    "# 1.4. Merge two files with columns: Patient_ID, Sex, Age, BMI, Smoking_status, Number_of_visit, Disease\n",
    "\n",
    "# make a new dataframe from patient and number of visits\n",
    "# right means, if a patient does not have a hopital visit it is NaN\n",
    "new_df= pd.merge(Number_of_visit, patient, on=\"Participant_ID\", how=\"right\")\n",
    "\n",
    "\n",
    "\n",
    "# replace NaN with 0\n",
    "new_df[\"VisitDate\"].fillna(0, inplace = True)\n",
    "\n",
    "# rename columns\n",
    "new_df = new_df.rename(columns={'Participant_ID': 'Patient_ID', 'VisitDate': 'Number_of_visit'})\n",
    "\n",
    "\n",
    "#reorder columns\n",
    "new_df = new_df[[\"Patient_ID\", \"Sex\", \"Age\", \"BMI\", \"Smoking_status\", \"Number_of_visit\", \"Disease\"]]\n",
    "print(new_df.head(30))\n"
   ]
  },
  {
   "cell_type": "code",
   "execution_count": 7,
   "metadata": {},
   "outputs": [],
   "source": [
    "# 2.1. Is the BMI different between the healthy and control group? make the box/violin chart"
   ]
  },
  {
   "cell_type": "code",
   "execution_count": 8,
   "metadata": {},
   "outputs": [],
   "source": [
    "# 2.2. Is the proportion of Smoke status different between the healthy and control group?"
   ]
  },
  {
   "cell_type": "code",
   "execution_count": 9,
   "metadata": {},
   "outputs": [],
   "source": [
    "# 2.3. Is the smoke status related to the number of Hospital visits regardless of the disease? (ignore the \"Prefer not to answer\")\n"
   ]
  },
  {
   "cell_type": "code",
   "execution_count": 10,
   "metadata": {},
   "outputs": [],
   "source": [
    "# 2.4. Is the number of visits higher in the Disease group than in the Healthy group?\n"
   ]
  },
  {
   "cell_type": "code",
   "execution_count": 11,
   "metadata": {},
   "outputs": [],
   "source": [
    "#2.5. Do Male has a higher current smoke percentage compared to Female?\n"
   ]
  }
 ],
 "metadata": {
  "kernelspec": {
   "display_name": "Python 3",
   "language": "python",
   "name": "python3"
  },
  "language_info": {
   "codemirror_mode": {
    "name": "ipython",
    "version": 3
   },
   "file_extension": ".py",
   "mimetype": "text/x-python",
   "name": "python",
   "nbconvert_exporter": "python",
   "pygments_lexer": "ipython3",
   "version": "3.9.13"
  },
  "orig_nbformat": 4
 },
 "nbformat": 4,
 "nbformat_minor": 2
}
